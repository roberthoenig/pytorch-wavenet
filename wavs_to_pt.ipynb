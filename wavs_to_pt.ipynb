{
 "cells": [
  {
   "cell_type": "code",
   "execution_count": 18,
   "metadata": {},
   "outputs": [],
   "source": [
    "import numpy as np\n",
    "import matplotlib.pyplot as plt\n",
    "import mpld3\n",
    "import os\n",
    "import torch\n",
    "import torchaudio\n",
    "import numpy as np"
   ]
  },
  {
   "cell_type": "markdown",
   "metadata": {},
   "source": [
    "### Load wav files into tensors"
   ]
  },
  {
   "cell_type": "code",
   "execution_count": 32,
   "metadata": {},
   "outputs": [
    {
     "name": "stdout",
     "output_type": "stream",
     "text": [
      "torch.Size([1, 116984732]) 16000\n",
      "torch.Size([1, 385433414]) 16000\n",
      "torch.Size([1, 105145156]) 16000\n",
      "torch.Size([1, 550296950]) 16000\n",
      "torch.Size([1, 96798233]) 16000\n",
      "torch.Size([1, 137492225]) 16000\n",
      "torch.Size([1, 157404543]) 16000\n",
      "torch.Size([1, 576002369]) 16000\n",
      "torch.Size([1, 347771391]) 16000\n"
     ]
    }
   ],
   "source": [
    "wav_tensors = []\n",
    "for i, filename in enumerate(os.listdir(\"wav_audio\")):\n",
    "    if filename.endswith(\".wav\"):\n",
    "        wav_tensor, sample_rate = torchaudio.load_wav(\"wav_audio/\"+filename)\n",
    "        print(wav_tensor.shape, sample_rate)\n",
    "        wav_tensors.append(wav_tensor)"
   ]
  },
  {
   "cell_type": "markdown",
   "metadata": {},
   "source": [
    "### Concatenate tensors"
   ]
  },
  {
   "cell_type": "code",
   "execution_count": 60,
   "metadata": {},
   "outputs": [
    {
     "data": {
      "text/plain": [
       "(tensor(-32768.), tensor(32767.))"
      ]
     },
     "execution_count": 60,
     "metadata": {},
     "output_type": "execute_result"
    }
   ],
   "source": [
    "wav_tensor = torch.cat(wav_tensors, dim=1).squeeze()\n",
    "wav_tensor.min(), wav_tensor.max()"
   ]
  },
  {
   "cell_type": "markdown",
   "metadata": {},
   "source": [
    "### Rescale wav_tensor to [-1, 1]"
   ]
  },
  {
   "cell_type": "code",
   "execution_count": 61,
   "metadata": {},
   "outputs": [
    {
     "data": {
      "text/plain": [
       "(tensor(-1.), tensor(1.))"
      ]
     },
     "execution_count": 61,
     "metadata": {},
     "output_type": "execute_result"
    }
   ],
   "source": [
    "wav_tensor += 32768\n",
    "wav_tensor /= wav_tensor.max()\n",
    "wav_tensor *= 2\n",
    "wav_tensor -= 1\n",
    "wav_tensor.min(), wav_tensor.max()"
   ]
  },
  {
   "cell_type": "markdown",
   "metadata": {},
   "source": [
    "### Rescale wav_tensor to [256] with mu law"
   ]
  },
  {
   "cell_type": "code",
   "execution_count": 62,
   "metadata": {},
   "outputs": [
    {
     "data": {
      "text/plain": [
       "(tensor(0, dtype=torch.int32), tensor(255, dtype=torch.int32))"
      ]
     },
     "execution_count": 62,
     "metadata": {},
     "output_type": "execute_result"
    }
   ],
   "source": [
    "mu_law_encode = torchaudio.transforms.MuLawEncoding(quantization_channels=256)\n",
    "mu_wav_tensor = mu_law_encode(wav_tensor)\n",
    "mu_wav_tensor = mu_wav_tensor.type(torch.int)\n",
    "mu_wav_tensor.min(), mu_wav_tensor.max()"
   ]
  },
  {
   "cell_type": "markdown",
   "metadata": {},
   "source": [
    "### Save wav_tensor"
   ]
  },
  {
   "cell_type": "code",
   "execution_count": 63,
   "metadata": {},
   "outputs": [],
   "source": [
    "torch.save(mu_wav_tensor, 'wav_audio/wav_tensor.pt')"
   ]
  }
 ],
 "metadata": {
  "kernelspec": {
   "display_name": "Python 3",
   "language": "python",
   "name": "python3"
  },
  "language_info": {
   "codemirror_mode": {
    "name": "ipython",
    "version": 3
   },
   "file_extension": ".py",
   "mimetype": "text/x-python",
   "name": "python",
   "nbconvert_exporter": "python",
   "pygments_lexer": "ipython3",
   "version": "3.6.9"
  }
 },
 "nbformat": 4,
 "nbformat_minor": 4
}
